{
 "cells": [
  {
   "cell_type": "code",
   "execution_count": 1,
   "id": "eba56ca2",
   "metadata": {},
   "outputs": [],
   "source": [
    "import os\n",
    "import shutil\n",
    "import sqlite3\n",
    "\n",
    "import pandas as pd\n",
    "import requests\n",
    "import warnings\n",
    "from dotenv import load_dotenv\n",
    "from typing import Annotated, Dict, List, Optional, TypedDict, Union\n",
    "from langchain_core.tools import BaseTool, InjectedToolCallId\n",
    "from langgraph.graph.message import add_messages\n",
    "from langgraph.prebuilt import InjectedState\n",
    "from pydantic import BaseModel, Field\n",
    "from datetime import datetime, date\n",
    "from langchain_core.runnables import RunnableConfig\n",
    "import uuid\n",
    "import pytz\n",
    "\n",
    "load_dotenv()\n",
    "warnings.filterwarnings(\"ignore\")"
   ]
  },
  {
   "cell_type": "code",
   "execution_count": 2,
   "id": "96dd64a1",
   "metadata": {},
   "outputs": [],
   "source": [
    "db = \"../travel2.sqlite\"\n",
    "config = RunnableConfig(configurable={\"passenger_id\": \"12345\"})"
   ]
  },
  {
   "cell_type": "markdown",
   "id": "19b9c570",
   "metadata": {},
   "source": [
    "### Tools"
   ]
  },
  {
   "cell_type": "markdown",
   "id": "d6a0716f",
   "metadata": {},
   "source": [
    "#### **Flight Tools**\n",
    "1. Search Flights\n",
    "   - **Input**: Departure airport, Arrival airport, start time, end time\n",
    "   - **Output**: List of available flights with details\n",
    "\n",
    "2. Fetch User's Flight details\n",
    "    - **Input**: passenger_id\n",
    "    - **Output**: List of flights booked by the user\n",
    "\n",
    "3. Book Flight\n",
    "    - **Input**: User ID, Flight ID, fare_conditions, Name, special_requests, meal_preferences\n",
    "    - **Output**: Confirmation of booking\n",
    "\n",
    "4. Cancel Flight\n",
    "    - **Input**: User ID, Flight ID\n",
    "    - **Output**: Confirmation of cancellation\n",
    "\n",
    "5. Update Flight (update to next same flight)\n",
    "    - **Input**: User ID, Flight ID, \n",
    "    - **Output**: Confirmation of update"
   ]
  },
  {
   "cell_type": "code",
   "execution_count": 3,
   "id": "fe1f6d9a",
   "metadata": {},
   "outputs": [],
   "source": [
    "class SearchFlights(BaseTool):\n",
    "    name: str = \"search_flights\"\n",
    "    description: str = \"\"\"\n",
    "    Searches for flight information using a third-party API.\n",
    "    Use this tool when the user asks to find flights and you have all the necessary information:\n",
    "    origin city, destination city, and departure date.\n",
    "    Optionally takes number of adults, children, travel class, and if it's one-way.\n",
    "    Do NOT call this tool if origin, destination, or departure date is missing.\n",
    "    \"\"\"\n",
    "\n",
    "    def _run(\n",
    "        self,\n",
    "        departure_airport: str = None,\n",
    "        arrival_airport: str = None,\n",
    "        start_time: Optional[date | datetime] = None,\n",
    "        end_time: Optional[date | datetime] = None,\n",
    "        limit: int = 10,\n",
    "    ) -> str:\n",
    "        print(\n",
    "            f\"Executing search_flights with departure_airport={departure_airport}, \"\n",
    "            f\"arrival_airport={arrival_airport}, start_time={start_time}, end_time={end_time}\"\n",
    "        )\n",
    "\n",
    "        conn = sqlite3.connect(db)\n",
    "        cursor = conn.cursor()\n",
    "\n",
    "        query = \"SELECT * FROM flights WHERE 1 = 1\"\n",
    "        params = []\n",
    "        if departure_airport:\n",
    "            query += \" AND departure_airport = ?\"\n",
    "            params.append(departure_airport)\n",
    "\n",
    "        if arrival_airport:\n",
    "            query += \" AND arrival_airport = ?\"\n",
    "            params.append(arrival_airport)\n",
    "\n",
    "        if start_time:\n",
    "            query += \" AND DATE(scheduled_departure) >= DATE(?)\"\n",
    "            params.append(start_time)\n",
    "\n",
    "        if end_time:\n",
    "            query += \" AND DATE(scheduled_departure) <= DATE(?)\"\n",
    "            params.append(end_time)\n",
    "        query += \" LIMIT ?\"\n",
    "        params.append(limit)\n",
    "        cursor.execute(query, params)\n",
    "        rows = cursor.fetchall()\n",
    "        column_names = [column[0] for column in cursor.description]\n",
    "        results = [dict(zip(column_names, row)) for row in rows]\n",
    "\n",
    "        cursor.close()\n",
    "        conn.close()\n",
    "\n",
    "        return results"
   ]
  },
  {
   "cell_type": "code",
   "execution_count": 4,
   "id": "56f205c6",
   "metadata": {},
   "outputs": [
    {
     "name": "stdout",
     "output_type": "stream",
     "text": [
      "Executing search_flights with departure_airport=LIS, arrival_airport=BOM, start_time=2025-06-30, end_time=2025-06-30\n"
     ]
    },
    {
     "data": {
      "text/plain": [
       "[{'flight_id': 14806,\n",
       "  'flight_no': 'IB0093',\n",
       "  'scheduled_departure': '2025-06-30 13:01:22.037749-04:00',\n",
       "  'scheduled_arrival': '2025-06-30 13:41:22.037749-04:00',\n",
       "  'departure_airport': 'LIS',\n",
       "  'arrival_airport': 'BOM',\n",
       "  'status': 'Scheduled',\n",
       "  'aircraft_code': 'CR2',\n",
       "  'actual_departure': None,\n",
       "  'actual_arrival': None}]"
      ]
     },
     "execution_count": 4,
     "metadata": {},
     "output_type": "execute_result"
    }
   ],
   "source": [
    "params = {\n",
    "    \"departure_airport\": \"LIS\",\n",
    "    \"arrival_airport\": \"BOM\",\n",
    "    \"start_time\": \"2025-06-30\",\n",
    "    \"end_time\": \"2025-06-30\",\n",
    "}\n",
    "SearchFlights().invoke(input=params)"
   ]
  },
  {
   "cell_type": "code",
   "execution_count": null,
   "id": "aaf3fbb6",
   "metadata": {},
   "outputs": [],
   "source": [
    "class BookFlight(BaseTool):\n",
    "    name: str = \"book_flight\"\n",
    "    description: str = \"\"\"\n",
    "    Book a flight using the provided flight details.\n",
    "    Use this tool when the user has provided all necessary information for booking a flight.\n",
    "    This includes the flight details, passenger information, and payment details.\n",
    "    Do NOT call this tool if any required information is missing.\n",
    "    The flight details should include the origin, destination, departure date, return date (if applicable), number of adults, number of children, and travel class.\n",
    "    \"\"\"\n",
    "\n",
    "    def _run(\n",
    "        self,\n",
    "        config: RunnableConfig,\n",
    "        flight_no: str,\n",
    "        departure: date | datetime,\n",
    "        book_ref: str,\n",
    "        fare_conditions: Optional[str] = \"None\",\n",
    "        meal_preference: Optional[str] = \"None\",\n",
    "        special_assistance: Optional[str] = \"None\",\n",
    "    ) -> str:\n",
    "        print(\n",
    "            f\"Executing book_flight with flight_no={flight_no}, book_ref={book_ref}, fare_conditions={fare_conditions}, meal_preference={meal_preference}, special_assistance={special_assistance}\"\n",
    "        )\n",
    "\n",
    "        configuration = config.get(\"configurable\", {})\n",
    "        passenger_id = configuration.get(\"passenger_id\", None)\n",
    "        if not passenger_id:\n",
    "            raise ValueError(\"No passenger ID configured.\")\n",
    "\n",
    "        conn = sqlite3.connect(db)\n",
    "        cursor = conn.cursor()\n",
    "\n",
    "        # Get flight details\n",
    "        query = \"SELECT * FROM flights WHERE flight_no = ? AND DATE(scheduled_departure) = DATE(?)\"\n",
    "        cursor.execute(\n",
    "            query,\n",
    "            (\n",
    "                flight_no,\n",
    "                departure,\n",
    "            ),\n",
    "        )\n",
    "        flight_details = cursor.fetchone()\n",
    "        if not flight_details:\n",
    "            raise ValueError(f\"Flight with number {flight_no} not found.\")\n",
    "\n",
    "        # Get ticket\n",
    "        query = (\n",
    "            \"SELECT * FROM ticket_flights WHERE flight_id = ? AND fare_conditions = ?\"\n",
    "        )\n",
    "        cursor.execute(query, (flight_details[0], fare_conditions))\n",
    "        ticket_details = cursor.fetchone()\n",
    "        if not ticket_details:\n",
    "            raise ValueError(f\"Ticket for flight {flight_no} not found.\")\n",
    "\n",
    "        # Book the flight\n",
    "        query = (\n",
    "            \"INSERT INTO tickets (ticket_no, book_ref, passenger_id) VALUES (?, ?, ?)\"\n",
    "        )\n",
    "        params = [ticket_details[0], book_ref, passenger_id]\n",
    "\n",
    "        cursor.execute(query, params)\n",
    "        conn.commit()\n",
    "        ticket_no = cursor.lastrowid\n",
    "\n",
    "        # Generate boarding pass\n",
    "        boarding_no = uuid.uuid4().hex[:8].upper()\n",
    "        seat_no = f\"{flight_details[1]}{uuid.uuid4().hex[:4].upper()}\"\n",
    "\n",
    "        query = \"INSERT INTO boarding_passes (ticket_no, flight_id, boarding_no, seat_no) VALUES (?, ?, ?, ?)\"\n",
    "        params = [ticket_details[0], ticket_details[1], boarding_no, seat_no]\n",
    "        cursor.execute(query, params)\n",
    "        conn.commit()\n",
    "        boarding_pass_id = cursor.lastrowid\n",
    "\n",
    "        cursor.close()\n",
    "        conn.close()\n",
    "\n",
    "        return f\"Flight booked successfully with ticket no: {ticket_no}\""
   ]
  },
  {
   "cell_type": "code",
   "execution_count": 6,
   "id": "38bd4f5b",
   "metadata": {},
   "outputs": [],
   "source": [
    "conn = sqlite3.connect(db)\n",
    "cursor = conn.cursor()\n",
    "\n",
    "cursor.close()\n",
    "conn.close()"
   ]
  },
  {
   "cell_type": "code",
   "execution_count": 7,
   "id": "fc2b3e79",
   "metadata": {},
   "outputs": [
    {
     "name": "stdout",
     "output_type": "stream",
     "text": [
      "Executing book_flight with flight_no=DL0140, book_ref=REF123456, fare_conditions=Business, meal_preference=Vegetarian, special_assistance=Wheelchair\n"
     ]
    },
    {
     "data": {
      "text/plain": [
       "'Flight booked successfully with ticket no: 366738'"
      ]
     },
     "execution_count": 7,
     "metadata": {},
     "output_type": "execute_result"
    }
   ],
   "source": [
    "params = {\n",
    "    \"flight_no\": \"DL0140\",\n",
    "    \"book_ref\": \"REF123456\",\n",
    "    \"fare_conditions\": \"Business\",\n",
    "    \"departure\": \"2025-06-19\",\n",
    "    \"meal_preference\": \"Vegetarian\",\n",
    "    \"special_assistance\": \"Wheelchair\",\n",
    "}\n",
    "BookFlight().invoke(input=params, config=config)"
   ]
  },
  {
   "cell_type": "code",
   "execution_count": 10,
   "id": "784f42ff",
   "metadata": {},
   "outputs": [],
   "source": [
    "class CancelFlight(BaseTool):\n",
    "    name: str = \"cancel_flight\"\n",
    "    description: str = \"\"\"\n",
    "    Cancel a flight booking using the provided ticket number.\n",
    "    Use this tool when the user wants to cancel a flight booking.\n",
    "    The ticket number must be provided.\n",
    "    Do NOT call this tool if the ticket number is missing.\n",
    "    The tool will check if the ticket exists and if the current signed-in user is the owner of the ticket.\n",
    "    \"\"\"\n",
    "\n",
    "    def _run(self, config: RunnableConfig, ticket_no: str) -> str:\n",
    "        print(f\"Executing cancel_flight with ticket_no={ticket_no}\")\n",
    "\n",
    "        configuration = config.get(\"configurable\", {})\n",
    "        passenger_id = configuration.get(\"passenger_id\", None)\n",
    "        if not passenger_id:\n",
    "            raise ValueError(\"No passenger ID configured.\")\n",
    "        conn = sqlite3.connect(db)\n",
    "        cursor = conn.cursor()\n",
    "\n",
    "        cursor.execute(\n",
    "            \"SELECT flight_id FROM ticket_flights WHERE ticket_no = ?\", (ticket_no,)\n",
    "        )\n",
    "        existing_ticket = cursor.fetchone()\n",
    "        if not existing_ticket:\n",
    "            cursor.close()\n",
    "            conn.close()\n",
    "            return \"No existing ticket found for the given ticket number.\"\n",
    "\n",
    "        # Check the signed-in user actually has this ticket\n",
    "        cursor.execute(\n",
    "            \"SELECT ticket_no FROM tickets WHERE ticket_no = ? AND passenger_id = ?\",\n",
    "            (ticket_no, passenger_id),\n",
    "        )\n",
    "        current_ticket = cursor.fetchone()\n",
    "        if not current_ticket:\n",
    "            cursor.close()\n",
    "            conn.close()\n",
    "            return f\"Current signed-in passenger with ID {passenger_id} not the owner of ticket {ticket_no}\"\n",
    "\n",
    "        cursor.execute(\"DELETE FROM tickets WHERE ticket_no = ?\", (ticket_no,))\n",
    "        conn.commit()\n",
    "\n",
    "        cursor.close()\n",
    "        conn.close()\n",
    "\n",
    "        return f\"Flight with ticket ID {ticket_no} has been successfully canceled.\""
   ]
  },
  {
   "cell_type": "code",
   "execution_count": 11,
   "id": "606af7e7",
   "metadata": {},
   "outputs": [
    {
     "name": "stdout",
     "output_type": "stream",
     "text": [
      "Executing cancel_flight with ticket_no=0060005435215165\n"
     ]
    },
    {
     "data": {
      "text/plain": [
       "'No existing ticket found for the given ticket number.'"
      ]
     },
     "execution_count": 11,
     "metadata": {},
     "output_type": "execute_result"
    }
   ],
   "source": [
    "params = {\n",
    "    \"ticket_no\": \"0060005435215165\",\n",
    "}\n",
    "CancelFlight().invoke(input=params, config=config)"
   ]
  },
  {
   "cell_type": "code",
   "execution_count": 6,
   "id": "46d9c476",
   "metadata": {},
   "outputs": [],
   "source": [
    "class UpdateFlight(BaseTool):\n",
    "    name: str = \"update_flight\"\n",
    "    description: str = \"\"\"\n",
    "    \"\"\"\n",
    "\n",
    "    def _run(\n",
    "        self,\n",
    "        config: RunnableConfig,\n",
    "        ticket_no: str,\n",
    "        new_flight_id: str,\n",
    "    ) -> str:\n",
    "        configuration = config.get(\"configurable\", {})\n",
    "        passenger_id = configuration.get(\"passenger_id\", None)\n",
    "        if not passenger_id:\n",
    "            raise ValueError(\"No passenger ID configured.\")\n",
    "\n",
    "        conn = sqlite3.connect(db)\n",
    "        cursor = conn.cursor()\n",
    "\n",
    "        cursor.execute(\n",
    "            \"SELECT departure_airport, arrival_airport, scheduled_departure FROM flights WHERE flight_id = ?\",\n",
    "            (new_flight_id,),\n",
    "        )\n",
    "        new_flight = cursor.fetchone()\n",
    "        if not new_flight:\n",
    "            cursor.close()\n",
    "            conn.close()\n",
    "            return \"Invalid new flight ID provided.\"\n",
    "        column_names = [column[0] for column in cursor.description]\n",
    "        new_flight_dict = dict(zip(column_names, new_flight))\n",
    "        timezone = pytz.timezone(\"Etc/GMT-3\")\n",
    "        current_time = datetime.now(tz=timezone)\n",
    "        departure_time = datetime.strptime(\n",
    "            new_flight_dict[\"scheduled_departure\"], \"%Y-%m-%d %H:%M:%S.%f%z\"\n",
    "        )\n",
    "        time_until = (departure_time - current_time).total_seconds()\n",
    "        if time_until < (3 * 3600):\n",
    "            return f\"Not permitted to reschedule to a flight that is less than 3 hours from the current time. Selected flight is at {departure_time}.\"\n",
    "\n",
    "        cursor.execute(\n",
    "            \"SELECT flight_id FROM ticket_flights WHERE ticket_no = ?\", (ticket_no,)\n",
    "        )\n",
    "        current_flight = cursor.fetchone()\n",
    "        if not current_flight:\n",
    "            cursor.close()\n",
    "            conn.close()\n",
    "            return \"No existing ticket found for the given ticket number.\"\n",
    "\n",
    "        # Check the signed-in user actually has this ticket\n",
    "        cursor.execute(\n",
    "            \"SELECT * FROM tickets WHERE ticket_no = ? AND passenger_id = ?\",\n",
    "            (ticket_no, passenger_id),\n",
    "        )\n",
    "        current_ticket = cursor.fetchone()\n",
    "        if not current_ticket:\n",
    "            cursor.close()\n",
    "            conn.close()\n",
    "            return f\"Current signed-in passenger with ID {passenger_id} not the owner of ticket {ticket_no}\"\n",
    "\n",
    "        # In a real application, you'd likely add additional checks here to enforce business logic,\n",
    "        # like \"does the new departure airport match the current ticket\", etc.\n",
    "        # While it's best to try to be *proactive* in 'type-hinting' policies to the LLM\n",
    "        # it's inevitably going to get things wrong, so you **also** need to ensure your\n",
    "        # API enforces valid behavior\n",
    "        cursor.execute(\n",
    "            \"UPDATE ticket_flights SET flight_id = ? WHERE ticket_no = ?\",\n",
    "            (new_flight_id, ticket_no),\n",
    "        )\n",
    "        conn.commit()\n",
    "\n",
    "        cursor.close()\n",
    "        conn.close()\n",
    "        return \"Ticket successfully updated to new flight.\""
   ]
  },
  {
   "cell_type": "code",
   "execution_count": null,
   "id": "ac599d3e",
   "metadata": {},
   "outputs": [],
   "source": [
    "# params = {\"ticket_no\": \"9880005434068393\", \"new_flight_id\": \"\"}\n",
    "# UpdateFlight().invoke(input=params, config=config)"
   ]
  },
  {
   "cell_type": "markdown",
   "id": "798ee835",
   "metadata": {},
   "source": [
    "#### **Hotel Tools**\n",
    "1. Search Hotels\n",
    "   - **Input**: location, name, price_tier\n",
    "   - **Output**: List of available hotels with details\n",
    "\n",
    "2. Fetch User's hotel details\n",
    "    - **Input**: passenger_id\n",
    "    - **Output**: List of hotels booked by the user\n",
    "\n",
    "3. Book Hotel\n",
    "    - **Input**: hotel_id, passenger_id, check_in_date, check_out_date, room_type\n",
    "    - **Output**: Confirmation of booking\n",
    "\n",
    "4. Cancel Hotel Booking\n",
    "    - **Input**: passenger_id, hotel_id\n",
    "    - **Output**: Confirmation of cancellation\n",
    "\n",
    "5. update Hotel Booking (update check-in/check-out dates only)\n",
    "    - **Input**: passenger_id, hotel_id, check_in_date, check_out_date\n",
    "    - **Output**: Confirmation of update"
   ]
  },
  {
   "cell_type": "code",
   "execution_count": 8,
   "id": "4dcd862b",
   "metadata": {},
   "outputs": [],
   "source": [
    "class SearchHotel(BaseTool):\n",
    "    name: str = \"search_hotel\"\n",
    "    description: str = \"\"\"\n",
    "    Search for hotels based on location, name, price tier, check-in date, and check-out date.\n",
    "\n",
    "    Args:\n",
    "        location (Optional[str]): The location of the hotel. Defaults to None.\n",
    "        name (Optional[str]): The name of the hotel. Defaults to None.\n",
    "        price_tier (Optional[str]): The price tier of the hotel. Defaults to None. Examples: Midscale, Upper Midscale, Upscale, Luxury\n",
    "\n",
    "    Returns:\n",
    "        list[dict]: A list of hotel dictionaries matching the search criteria.\n",
    "    \"\"\"\n",
    "\n",
    "    def _run(\n",
    "        self,\n",
    "        location: str = None,\n",
    "        name: str | None = None,\n",
    "        price_tier: str | None = None,\n",
    "    ) -> list[dict]:\n",
    "        print(\n",
    "            f\"Executing search_hotel with location={location}, price_tier={price_tier}\"\n",
    "        )\n",
    "\n",
    "        conn = sqlite3.connect(db)\n",
    "        cursor = conn.cursor()\n",
    "\n",
    "        query = \"SELECT * FROM hotels WHERE 1=1\"\n",
    "        params = []\n",
    "\n",
    "        if location:\n",
    "            query += \" AND location LIKE ?\"\n",
    "            params.append(f\"%{location}%\")\n",
    "        if name:\n",
    "            query += \" AND name LIKE ?\"\n",
    "            params.append(f\"%{name}%\")\n",
    "\n",
    "        cursor.execute(query, params)\n",
    "        results = cursor.fetchall()\n",
    "\n",
    "        conn.close()\n",
    "\n",
    "        return [\n",
    "            dict(zip([column[0] for column in cursor.description], row))\n",
    "            for row in results\n",
    "        ]"
   ]
  },
  {
   "cell_type": "code",
   "execution_count": null,
   "id": "7d311c45",
   "metadata": {},
   "outputs": [
    {
     "name": "stdout",
     "output_type": "stream",
     "text": [
      "Executing search_hotel with location=Basel, price_tier=Luxury\n"
     ]
    },
    {
     "data": {
      "text/plain": [
       "[{'id': 1,\n",
       "  'name': 'Hilton Basel',\n",
       "  'location': 'Basel',\n",
       "  'price_tier': 'Luxury',\n",
       "  'checkin_date': '2024-04-22',\n",
       "  'checkout_date': '2024-04-20',\n",
       "  'booked': 0},\n",
       " {'id': 3,\n",
       "  'name': 'Hyatt Regency Basel',\n",
       "  'location': 'Basel',\n",
       "  'price_tier': 'Upper Upscale',\n",
       "  'checkin_date': '2024-04-02',\n",
       "  'checkout_date': '2024-04-20',\n",
       "  'booked': 0},\n",
       " {'id': 8,\n",
       "  'name': 'Holiday Inn Basel',\n",
       "  'location': 'Basel',\n",
       "  'price_tier': 'Upper Midscale',\n",
       "  'checkin_date': '2024-04-24',\n",
       "  'checkout_date': '2024-04-09',\n",
       "  'booked': 0}]"
      ]
     },
     "execution_count": 9,
     "metadata": {},
     "output_type": "execute_result"
    }
   ],
   "source": [
    "params = {\n",
    "    \"location\": \"Basel\",\n",
    "    \"price_tier\": \"Luxury\",\n",
    "}\n",
    "SearchHotel().invoke(input=params)"
   ]
  },
  {
   "cell_type": "code",
   "execution_count": 18,
   "id": "bc7180d6",
   "metadata": {},
   "outputs": [],
   "source": [
    "class BookHotel(BaseTool):\n",
    "    name: str = \"book_hotel\"\n",
    "    description: str = \"\"\"\n",
    "    Book a hotel by its ID.\n",
    "\n",
    "    Args:\n",
    "        hotel_id (int): The ID of the hotel to book.\n",
    "\n",
    "    Returns:\n",
    "        str: A message indicating whether the hotel was successfully booked or not.\n",
    "    \"\"\"\n",
    "\n",
    "    def _run(\n",
    "        self,\n",
    "        config: RunnableConfig,\n",
    "        hotel_id: str,\n",
    "        check_in_date: date,\n",
    "        check_out_date: date,\n",
    "        room_type: Optional[str] = None,\n",
    "        num_guests: int = 1,\n",
    "    ) -> str:\n",
    "        print(\n",
    "            f\"Executing book_hotel with hotel_id={hotel_id}, check_in_date={check_in_date}, check_out_date={check_out_date}, num_guests={num_guests}\"\n",
    "        )\n",
    "\n",
    "        configuration = config.get(\"configurable\", {})\n",
    "        passenger_id = configuration.get(\"passenger_id\", None)\n",
    "        if not passenger_id:\n",
    "            raise ValueError(\"No passenger ID configured.\")\n",
    "\n",
    "        conn = sqlite3.connect(db)\n",
    "        cursor = conn.cursor()\n",
    "\n",
    "        # Get hotel details\n",
    "        query = \"SELECT * FROM hotels WHERE id = ?\"\n",
    "        cursor.execute(query, (hotel_id,))\n",
    "        hotel_details = cursor.fetchone()\n",
    "        if not hotel_details:\n",
    "            raise ValueError(f\"Hotel with ID {hotel_id} not found.\")\n",
    "\n",
    "        # Book the hotel\n",
    "        booking_id = uuid.uuid4().hex[:8].upper()\n",
    "        query = (\n",
    "            \"INSERT INTO hotel_bookings (booking_id, hotel_id, passenger_id, check_in_date, check_out_date, room_type, num_guests) \"\n",
    "            \"VALUES (?, ?, ?, ?, ?, ?, ?)\"\n",
    "        )\n",
    "        params = [\n",
    "            booking_id,\n",
    "            hotel_id,\n",
    "            passenger_id,\n",
    "            check_in_date,\n",
    "            check_out_date,\n",
    "            room_type,\n",
    "            num_guests,\n",
    "        ]\n",
    "\n",
    "        cursor.execute(query, params)\n",
    "        conn.commit()\n",
    "        booking_id = cursor.lastrowid\n",
    "\n",
    "        cursor.close()\n",
    "        conn.close()\n",
    "\n",
    "        return f\"Hotel booked successfully with booking ID: {booking_id}\""
   ]
  },
  {
   "cell_type": "code",
   "execution_count": null,
   "id": "4e497f22",
   "metadata": {},
   "outputs": [
    {
     "name": "stdout",
     "output_type": "stream",
     "text": [
      "Executing book_hotel with hotel_id=2, check_in_date=2024-01-01, check_out_date=2024-01-05, num_guests=2\n"
     ]
    },
    {
     "data": {
      "text/plain": [
       "'Hotel booked successfully with booking ID: 2'"
      ]
     },
     "execution_count": 27,
     "metadata": {},
     "output_type": "execute_result"
    }
   ],
   "source": [
    "params = {\n",
    "    \"hotel_id\": \"2\",\n",
    "    \"check_in_date\": \"2024-01-01\",\n",
    "    \"check_out_date\": \"2024-01-05\",\n",
    "    \"room_type\": \"Deluxe\",\n",
    "    \"num_guests\": 2,\n",
    "}\n",
    "BookHotel().invoke(input=params, config=config)"
   ]
  },
  {
   "cell_type": "code",
   "execution_count": 25,
   "id": "81c6b5a2",
   "metadata": {},
   "outputs": [],
   "source": [
    "class UpdateHotelBooking(BaseTool):\n",
    "    name: str = \"update_hotel_booking\"\n",
    "    description: str = \"\"\"\n",
    "    Update a hotel's check-in and check-out dates by its ID.\n",
    "\n",
    "    Args:\n",
    "        hotel_id (int): The ID of the hotel to update.\n",
    "        checkin_date (Optional[Union[datetime, date]]): The new check-in date of the hotel. Defaults to None.\n",
    "        checkout_date (Optional[Union[datetime, date]]): The new check-out date of the hotel. Defaults to None.\n",
    "\n",
    "    Returns:\n",
    "        str: A message indicating whether the hotel was successfully updated or not.\n",
    "    \"\"\"\n",
    "\n",
    "    def _run(\n",
    "        self,\n",
    "        config: RunnableConfig,\n",
    "        new_check_in_date: date,\n",
    "        new_check_out_date: date,\n",
    "    ) -> str:\n",
    "        print(\n",
    "            f\"Executing update_hotel_booking with new_check_in_date={new_check_in_date}, new_check_out_date={new_check_out_date}\"\n",
    "        )\n",
    "\n",
    "        configuration = config.get(\"configurable\", {})\n",
    "        passenger_id = configuration.get(\"passenger_id\", None)\n",
    "        if not passenger_id:\n",
    "            raise ValueError(\"No booking ID configured.\")\n",
    "\n",
    "        conn = sqlite3.connect(db)\n",
    "        cursor = conn.cursor()\n",
    "\n",
    "        # Get Booking ID\n",
    "        query = \"SELECT * FROM hotel_bookings WHERE passenger_id = ?\"\n",
    "        cursor.execute(query, (passenger_id,))\n",
    "        booking_details = cursor.fetchone()\n",
    "        print(booking_details)\n",
    "\n",
    "        if not booking_details:\n",
    "            cursor.close()\n",
    "            conn.close()\n",
    "            return \"No existing booking found for the given passenger ID.\"\n",
    "        booking_id = booking_details[0]\n",
    "\n",
    "        # Update the hotel booking\n",
    "        query = \"UPDATE hotel_bookings SET check_in_date = ?, check_out_date = ? WHERE booking_id = ?\"\n",
    "        params = [new_check_in_date, new_check_out_date, booking_id]\n",
    "\n",
    "        cursor.execute(query, params)\n",
    "        conn.commit()\n",
    "\n",
    "        cursor.close()\n",
    "        conn.close()\n",
    "\n",
    "        return f\"Hotel booking with ID {booking_id} successfully updated.\""
   ]
  },
  {
   "cell_type": "code",
   "execution_count": 26,
   "id": "bbaef3fc",
   "metadata": {},
   "outputs": [
    {
     "name": "stdout",
     "output_type": "stream",
     "text": [
      "Executing update_hotel_booking with new_check_in_date=2026-01-01, new_check_out_date=2026-01-05\n",
      "('D36E807E', '2', 12345, '2024-01-01', '2024-01-05', 'Deluxe', 2)\n"
     ]
    },
    {
     "data": {
      "text/plain": [
       "'Hotel booking with ID D36E807E successfully updated.'"
      ]
     },
     "execution_count": 26,
     "metadata": {},
     "output_type": "execute_result"
    }
   ],
   "source": [
    "params = {\n",
    "    \"new_check_in_date\": \"2026-01-01\",\n",
    "    \"new_check_out_date\": \"2026-01-05\",\n",
    "}\n",
    "config = RunnableConfig(configurable={\"passenger_id\": \"12345\"})\n",
    "UpdateHotelBooking().invoke(input=params, config=config)"
   ]
  },
  {
   "cell_type": "code",
   "execution_count": 31,
   "id": "d6e2a286",
   "metadata": {},
   "outputs": [],
   "source": [
    "class CancelHotelBooking(BaseTool):\n",
    "    name: str = \"cancel_hotel_booking\"\n",
    "    description: str = \"\"\"\n",
    "    Cancel a hotel by its ID.\n",
    "\n",
    "    Args:\n",
    "        hotel_id (int): The ID of the hotel to cancel.\n",
    "\n",
    "    Returns:\n",
    "        str: A message indicating whether the hotel was successfully cancelled or not.\n",
    "    \"\"\"\n",
    "\n",
    "    def _run(self, config: RunnableConfig, hotel_id: str) -> str:\n",
    "        print(f\"Executing cancel_hotel_booking with hotel_id={hotel_id}\")\n",
    "\n",
    "        configuration = config.get(\"configurable\", {})\n",
    "        passenger_id = configuration.get(\"passenger_id\", None)\n",
    "        if not passenger_id:\n",
    "            raise ValueError(\"No passenger ID configured.\")\n",
    "\n",
    "        conn = sqlite3.connect(db)\n",
    "        cursor = conn.cursor()\n",
    "\n",
    "        # Check if the booking exists\n",
    "        query = \"SELECT * FROM hotel_bookings WHERE passenger_id = ?\"\n",
    "        cursor.execute(query, (passenger_id,))\n",
    "        existing_booking = cursor.fetchone()\n",
    "        if not existing_booking:\n",
    "            cursor.close()\n",
    "            conn.close()\n",
    "            return \"No existing booking found for the given booking ID.\"\n",
    "\n",
    "        # Cancel the hotel booking\n",
    "        booking_id = existing_booking[0]\n",
    "        query = \"DELETE FROM hotel_bookings WHERE booking_id = ?\"\n",
    "        cursor.execute(query, (booking_id,))\n",
    "        conn.commit()\n",
    "\n",
    "        cursor.close()\n",
    "        conn.close()\n",
    "\n",
    "        return f\"Hotel booking with ID {booking_id} has been successfully canceled.\""
   ]
  },
  {
   "cell_type": "code",
   "execution_count": 32,
   "id": "792e0082",
   "metadata": {},
   "outputs": [
    {
     "name": "stdout",
     "output_type": "stream",
     "text": [
      "Executing cancel_hotel_booking with hotel_id=2\n"
     ]
    },
    {
     "data": {
      "text/plain": [
       "'Hotel booking with ID D36E807E has been successfully canceled.'"
      ]
     },
     "execution_count": 32,
     "metadata": {},
     "output_type": "execute_result"
    }
   ],
   "source": [
    "params = {\"hotel_id\": \"2\"}\n",
    "config = RunnableConfig(configurable={\"passenger_id\": \"12345\"})\n",
    "CancelHotelBooking().invoke(input=params, config=config)"
   ]
  },
  {
   "cell_type": "markdown",
   "id": "921fb5e5",
   "metadata": {},
   "source": [
    "#### **Car Rentals**\n",
    "1. Search Car Rentals\n",
    "   - **Input**: location, name, price_tier, start_time, end_time\n",
    "   - **Output**: List of available car rentals with details\n",
    "\n",
    "2. Fetch User's Car Rental details\n",
    "    - **Input**: passenger_id\n",
    "    - **Output**: List of car rentals booked by the user\n",
    "\n",
    "3. Book Car Rental\n",
    "    - **Input**: rental_id, passenger_id, start_time, end_time\n",
    "    - **Output**: Confirmation of booking\n",
    "\n",
    "4. Cancel Car Rental Booking\n",
    "    - **Input**: rental_id, passenger_id\n",
    "    - **Output**: Confirmation of cancellation\n",
    "\n",
    "5. update Hotel Booking (update start time/end time only)\n",
    "    - **Input**: rental_id, passenger_id, start_time, end_time\n",
    "    - **Output**: Confirmation of update"
   ]
  },
  {
   "cell_type": "code",
   "execution_count": null,
   "id": "8374695e",
   "metadata": {},
   "outputs": [],
   "source": [
    "class SearchCarRental(BaseTool):\n",
    "    name: str = \"search_car_rental\"\n",
    "    description: str = \"\"\"\n",
    "    Search for car rentals based on location, name, price tier, start date, and end date.\n",
    "\n",
    "    Args:\n",
    "        location (Optional[str]): The location of the car rental. Defaults to None.\n",
    "        name (Optional[str]): The name of the car rental company. Defaults to None.\n",
    "        price_tier (Optional[str]): The price tier of the car rental. Defaults to None.\n",
    "        start_date (Optional[Union[datetime, date]]): The start date of the car rental. Defaults to None.\n",
    "        end_date (Optional[Union[datetime, date]]): The end date of the car rental. Defaults to None.\n",
    "\n",
    "    Returns:\n",
    "        list[dict]: A list of car rental dictionaries matching the search criteria.\n",
    "    \"\"\"\n",
    "\n",
    "    def _run(\n",
    "        self,\n",
    "        location: str = None,\n",
    "        name: str | None = None,\n",
    "        price_tier: str | None = None,\n",
    "        start_date: Optional[date | datetime] = None,\n",
    "        end_date: Optional[date | datetime] = None,\n",
    "    ) -> list[dict]:\n",
    "        print(\n",
    "            f\"Executing search_hotel with location={location}, price_tier={price_tier}\"\n",
    "        )\n",
    "\n",
    "        conn = sqlite3.connect(db)\n",
    "        cursor = conn.cursor()\n",
    "\n",
    "        query = \"SELECT * FROM car_rentals WHERE 1=1\"\n",
    "        params = []\n",
    "\n",
    "        if location:\n",
    "            query += \" AND location LIKE ?\"\n",
    "            params.append(f\"%{location}%\")\n",
    "        if name:\n",
    "            query += \" AND name LIKE ?\"\n",
    "            params.append(f\"%{name}%\")\n",
    "\n",
    "        cursor.execute(query, params)\n",
    "        results = cursor.fetchall()\n",
    "\n",
    "        conn.close()\n",
    "\n",
    "        return [\n",
    "            dict(zip([column[0] for column in cursor.description], row))\n",
    "            for row in results\n",
    "        ]"
   ]
  },
  {
   "cell_type": "code",
   "execution_count": 15,
   "id": "e930df20",
   "metadata": {},
   "outputs": [
    {
     "name": "stdout",
     "output_type": "stream",
     "text": [
      "Executing search_hotel with location=Basel, price_tier=Luxury\n"
     ]
    },
    {
     "data": {
      "text/plain": [
       "[{'id': 1,\n",
       "  'name': 'Europcar',\n",
       "  'location': 'Basel',\n",
       "  'price_tier': 'Economy',\n",
       "  'start_date': '2024-04-14',\n",
       "  'end_date': '2024-04-11',\n",
       "  'booked': 0},\n",
       " {'id': 2,\n",
       "  'name': 'Avis',\n",
       "  'location': 'Basel',\n",
       "  'price_tier': 'Luxury',\n",
       "  'start_date': '2024-04-10',\n",
       "  'end_date': '2024-04-20',\n",
       "  'booked': 0},\n",
       " {'id': 7,\n",
       "  'name': 'Enterprise',\n",
       "  'location': 'Basel',\n",
       "  'price_tier': 'Premium',\n",
       "  'start_date': '2024-04-22',\n",
       "  'end_date': '2024-04-20',\n",
       "  'booked': 0},\n",
       " {'id': 9,\n",
       "  'name': 'Thrifty',\n",
       "  'location': 'Basel',\n",
       "  'price_tier': 'Midsize',\n",
       "  'start_date': '2024-04-17',\n",
       "  'end_date': '2024-04-26',\n",
       "  'booked': 0}]"
      ]
     },
     "execution_count": 15,
     "metadata": {},
     "output_type": "execute_result"
    }
   ],
   "source": [
    "params = {\n",
    "    \"location\": \"Basel\",\n",
    "    \"price_tier\": \"Luxury\",\n",
    "    \"start_date\": \"2024-01-01\",\n",
    "    \"end_date\": \"2024-01-05\",\n",
    "}\n",
    "SearchCarRental().invoke(input=params)"
   ]
  },
  {
   "cell_type": "code",
   "execution_count": 16,
   "id": "54c20b2a",
   "metadata": {},
   "outputs": [],
   "source": [
    "class BookCarRental(BaseTool):\n",
    "    name: str = \"book_car_rental\"\n",
    "    description: str = \"\"\"\n",
    "    Book a car rental by its ID.\n",
    "\n",
    "    Args:\n",
    "        rental_id (int): The ID of the car rental to book.\n",
    "\n",
    "    Returns:\n",
    "        str: A message indicating whether the car rental was successfully booked or not.\n",
    "    \"\"\"\n",
    "\n",
    "    def _run(\n",
    "        self,\n",
    "        config: RunnableConfig,\n",
    "        rental_id: str,\n",
    "        start_date: date,\n",
    "        end_date: date,\n",
    "    ) -> str:\n",
    "        print(\n",
    "            f\"Executing book_car_rental with rental_id={rental_id}, start_date={start_date}, end_date={end_date}\"\n",
    "        )\n",
    "\n",
    "        conn = sqlite3.connect(db)\n",
    "        cursor = conn.cursor()\n",
    "\n",
    "        cursor.execute(\"UPDATE car_rentals SET booked = 1 WHERE id = ?\", (rental_id,))\n",
    "        conn.commit()\n",
    "\n",
    "        if cursor.rowcount > 0:\n",
    "            conn.close()\n",
    "            return f\"Car rental {rental_id} successfully booked.\"\n",
    "        else:\n",
    "            conn.close()\n",
    "            return f\"No car rental found with ID {rental_id}.\""
   ]
  },
  {
   "cell_type": "code",
   "execution_count": 19,
   "id": "3aaa605e",
   "metadata": {},
   "outputs": [
    {
     "name": "stdout",
     "output_type": "stream",
     "text": [
      "Executing book_car_rental with rental_id=1, start_date=2024-01-01, end_date=2024-01-05\n"
     ]
    },
    {
     "data": {
      "text/plain": [
       "'Car rental 1 successfully booked.'"
      ]
     },
     "execution_count": 19,
     "metadata": {},
     "output_type": "execute_result"
    }
   ],
   "source": [
    "params = {\n",
    "    \"rental_id\": \"1\",\n",
    "    \"start_date\": \"2024-01-01\",\n",
    "    \"end_date\": \"2024-01-05\",\n",
    "}\n",
    "BookCarRental().invoke(input=params)"
   ]
  },
  {
   "cell_type": "code",
   "execution_count": 14,
   "id": "0289e74f",
   "metadata": {},
   "outputs": [],
   "source": [
    "class UpdateCarRental(BaseTool):\n",
    "    name: str = \"update_car_rental\"\n",
    "    description: str = \"\"\"\n",
    "    Update a car rental's start and end dates by its ID.\n",
    "\n",
    "    Args:\n",
    "        rental_id (int): The ID of the car rental to update.\n",
    "        start_date (Optional[Union[datetime, date]]): The new start date of the car rental. Defaults to None.\n",
    "        end_date (Optional[Union[datetime, date]]): The new end date of the car rental. Defaults to None.\n",
    "\n",
    "    Returns:\n",
    "        str: A message indicating whether the car rental was successfully updated or not.\n",
    "    \"\"\"\n",
    "\n",
    "    def _run(\n",
    "        self,\n",
    "        config: RunnableConfig,\n",
    "        rental_id: str,\n",
    "        start_date: date,\n",
    "        end_date: date,\n",
    "    ) -> str:\n",
    "        print(\n",
    "            f\"Executing book_car_rental with rental_id={rental_id}, start_date={start_date}, end_date={end_date}\"\n",
    "        )\n",
    "\n",
    "        conn = sqlite3.connect(db)\n",
    "        cursor = conn.cursor()\n",
    "\n",
    "        if start_date:\n",
    "            cursor.execute(\n",
    "                \"UPDATE car_rentals SET start_date = ? WHERE id = ?\",\n",
    "                (start_date, rental_id),\n",
    "            )\n",
    "        if end_date:\n",
    "            cursor.execute(\n",
    "                \"UPDATE car_rentals SET end_date = ? WHERE id = ?\",\n",
    "                (end_date, rental_id),\n",
    "            )\n",
    "\n",
    "        conn.commit()\n",
    "\n",
    "        if cursor.rowcount > 0:\n",
    "            conn.close()\n",
    "            return f\"Car rental {rental_id} successfully updated.\"\n",
    "        else:\n",
    "            conn.close()\n",
    "            return f\"No car rental found with ID {rental_id}.\""
   ]
  },
  {
   "cell_type": "code",
   "execution_count": 24,
   "id": "32c913cf",
   "metadata": {},
   "outputs": [
    {
     "name": "stdout",
     "output_type": "stream",
     "text": [
      "Executing book_car_rental with rental_id=1, start_date=2024-01-01, end_date=2024-01-05\n"
     ]
    },
    {
     "data": {
      "text/plain": [
       "'Car rental 1 successfully updated.'"
      ]
     },
     "execution_count": 24,
     "metadata": {},
     "output_type": "execute_result"
    }
   ],
   "source": [
    "params = {\n",
    "    \"rental_id\": \"1\",\n",
    "    \"start_date\": \"2024-01-01\",\n",
    "    \"end_date\": \"2024-01-05\",\n",
    "}\n",
    "UpdateCarRental().invoke(input=params)"
   ]
  },
  {
   "cell_type": "code",
   "execution_count": 22,
   "id": "4567e060",
   "metadata": {},
   "outputs": [],
   "source": [
    "class CancelCarRental(BaseTool):\n",
    "    name: str = \"cancel_car_rental\"\n",
    "    description: str = \"\"\"\n",
    "    Cancel a car rental by its ID.\n",
    "\n",
    "    Args:\n",
    "        rental_id (int): The ID of the car rental to cancel.\n",
    "\n",
    "    Returns:\n",
    "        str: A message indicating whether the car rental was successfully cancelled or not.\n",
    "    \"\"\"\n",
    "\n",
    "    def _run(\n",
    "        self,\n",
    "        config: RunnableConfig,\n",
    "        rental_id: str,\n",
    "    ) -> str:\n",
    "        print(f\"Executing cancel_car_rental with rental_id={rental_id}\")\n",
    "\n",
    "        conn = sqlite3.connect(db)\n",
    "\n",
    "        cursor = conn.cursor()\n",
    "\n",
    "        cursor.execute(\"UPDATE car_rentals SET booked = 0 WHERE id = ?\", (rental_id,))\n",
    "        conn.commit()\n",
    "\n",
    "        if cursor.rowcount > 0:\n",
    "            conn.close()\n",
    "            return f\"Car rental {rental_id} successfully cancelled.\"\n",
    "        else:\n",
    "            conn.close()\n",
    "            return f\"No car rental found with ID {rental_id}.\""
   ]
  },
  {
   "cell_type": "code",
   "execution_count": 25,
   "id": "56e1647b",
   "metadata": {},
   "outputs": [
    {
     "name": "stdout",
     "output_type": "stream",
     "text": [
      "Executing cancel_car_rental with rental_id=1\n"
     ]
    },
    {
     "data": {
      "text/plain": [
       "'Car rental 1 successfully cancelled.'"
      ]
     },
     "execution_count": 25,
     "metadata": {},
     "output_type": "execute_result"
    }
   ],
   "source": [
    "params = {\n",
    "    \"rental_id\": \"1\",\n",
    "}\n",
    "CancelCarRental().invoke(input=params)"
   ]
  }
 ],
 "metadata": {
  "kernelspec": {
   "display_name": ".venv",
   "language": "python",
   "name": "python3"
  },
  "language_info": {
   "codemirror_mode": {
    "name": "ipython",
    "version": 3
   },
   "file_extension": ".py",
   "mimetype": "text/x-python",
   "name": "python",
   "nbconvert_exporter": "python",
   "pygments_lexer": "ipython3",
   "version": "3.13.3"
  }
 },
 "nbformat": 4,
 "nbformat_minor": 5
}
