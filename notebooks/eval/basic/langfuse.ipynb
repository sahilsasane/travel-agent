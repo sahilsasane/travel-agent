{
 "cells": [
  {
   "cell_type": "markdown",
   "id": "5d078ae1",
   "metadata": {},
   "source": [
    "#### Langfuse Evaluation"
   ]
  },
  {
   "cell_type": "code",
   "execution_count": 46,
   "id": "463e9ec1",
   "metadata": {},
   "outputs": [
    {
     "data": {
      "text/plain": [
       "True"
      ]
     },
     "execution_count": 46,
     "metadata": {},
     "output_type": "execute_result"
    }
   ],
   "source": [
    "import os\n",
    "\n",
    "from dotenv import load_dotenv\n",
    "\n",
    "load_dotenv()"
   ]
  },
  {
   "cell_type": "code",
   "execution_count": 47,
   "id": "02bd7606",
   "metadata": {},
   "outputs": [],
   "source": [
    "from langfuse import Langfuse\n",
    "from langfuse.langchain import CallbackHandler\n",
    "\n",
    "langfuse = Langfuse(\n",
    "    public_key=\"pk-lf-c7be1653-c7b1-4136-90e9-6132b375e823\",\n",
    "    secret_key=\"sk-lf-dc2be4ce-811a-46b5-a385-7bbe1ab307b8\",\n",
    "    host=\"http://localhost:3000\",\n",
    ")\n",
    "\n",
    "langfuse_handler = CallbackHandler()"
   ]
  },
  {
   "cell_type": "code",
   "execution_count": 48,
   "id": "8dae056d",
   "metadata": {},
   "outputs": [
    {
     "name": "stdout",
     "output_type": "stream",
     "text": [
      "Langfuse client is authenticated and ready!\n"
     ]
    }
   ],
   "source": [
    "from langfuse import get_client\n",
    "\n",
    "langfuse = get_client()\n",
    "\n",
    "# Verify connection\n",
    "if langfuse.auth_check():\n",
    "    print(\"Langfuse client is authenticated and ready!\")\n",
    "else:\n",
    "    print(\"Authentication failed. Please check your credentials and host.\")"
   ]
  },
  {
   "cell_type": "code",
   "execution_count": null,
   "id": "6df4e552",
   "metadata": {},
   "outputs": [],
   "source": [
    "langfuse.create_dataset(name=\"capital_cities\")"
   ]
  },
  {
   "cell_type": "code",
   "execution_count": null,
   "id": "29f44dc7",
   "metadata": {},
   "outputs": [],
   "source": [
    "local_items = [\n",
    "    {\"input\": {\"country\": \"Italy\"}, \"expected_output\": \"Rome\"},\n",
    "    {\"input\": {\"country\": \"Spain\"}, \"expected_output\": \"Madrid\"},\n",
    "    {\"input\": {\"country\": \"Brazil\"}, \"expected_output\": \"Brasília\"},\n",
    "    {\"input\": {\"country\": \"Japan\"}, \"expected_output\": \"Tokyo\"},\n",
    "    {\"input\": {\"country\": \"India\"}, \"expected_output\": \"New Delhi\"},\n",
    "    {\"input\": {\"country\": \"Canada\"}, \"expected_output\": \"Ottawa\"},\n",
    "    {\"input\": {\"country\": \"South Korea\"}, \"expected_output\": \"Seoul\"},\n",
    "    {\"input\": {\"country\": \"Argentina\"}, \"expected_output\": \"Buenos Aires\"},\n",
    "    {\"input\": {\"country\": \"South Africa\"}, \"expected_output\": \"Pretoria\"},\n",
    "    {\"input\": {\"country\": \"Egypt\"}, \"expected_output\": \"Cairo\"},\n",
    "    {\"input\": {\"country\": \"Westeros\"}, \"expected_output\": \"Meereen\"},\n",
    "]"
   ]
  },
  {
   "cell_type": "code",
   "execution_count": 51,
   "id": "8dfc9208",
   "metadata": {},
   "outputs": [],
   "source": [
    "# Upload to Langfuse\n",
    "for item in local_items:\n",
    "    langfuse.create_dataset_item(\n",
    "        dataset_name=\"capital_cities\",\n",
    "        # any python object or value\n",
    "        input=item[\"input\"],\n",
    "        # any python object or value, optional\n",
    "        expected_output=item[\"expected_output\"],\n",
    "    )"
   ]
  },
  {
   "cell_type": "code",
   "execution_count": 52,
   "id": "269124d5",
   "metadata": {},
   "outputs": [],
   "source": [
    "from langchain.prompts import ChatPromptTemplate\n",
    "from langchain_core.messages import HumanMessage\n",
    "from langchain_core.prompts import ChatPromptTemplate, MessagesPlaceholder\n",
    "from langchain_openai import ChatOpenAI\n",
    "\n",
    "\n",
    "def run_my_langchain_llm_app(input, system_message, callback_handler):\n",
    "    prompt = ChatPromptTemplate.from_messages(\n",
    "        [\n",
    "            (\n",
    "                \"system\",\n",
    "                system_message,\n",
    "            ),\n",
    "            MessagesPlaceholder(variable_name=\"messages\"),\n",
    "        ]\n",
    "    )\n",
    "    chat = ChatOpenAI(model=\"gpt-4o-mini\")\n",
    "    chain = prompt | chat\n",
    "\n",
    "    res = chain.invoke(\n",
    "        {\"messages\": [HumanMessage(content=input)]}, config={\"callbacks\": [callback_handler]}\n",
    "    )\n",
    "\n",
    "    return res.content"
   ]
  },
  {
   "cell_type": "code",
   "execution_count": 53,
   "id": "5bf364ef",
   "metadata": {},
   "outputs": [],
   "source": [
    "def simple_evaluation(output, expected_output):\n",
    "    return output == expected_output"
   ]
  },
  {
   "cell_type": "code",
   "execution_count": 54,
   "id": "5b731e96",
   "metadata": {},
   "outputs": [],
   "source": [
    "from langfuse.langchain import CallbackHandler\n",
    "\n",
    "\n",
    "def run_langchain_experiment(experiment_name, system_prompt):\n",
    "    dataset = langfuse.get_dataset(\"capital_cities\")\n",
    "\n",
    "    # Initialize the Langfuse handler\n",
    "    langfuse_handler = CallbackHandler()\n",
    "\n",
    "    for item in dataset.items:\n",
    "        # Use the item.run() context manager\n",
    "        with item.run(\n",
    "            run_name=experiment_name,\n",
    "        ) as root_span:  # root_span is the root span of the new trace for this item and run.\n",
    "            # All subsequent langfuse operations within this block are part of this trace.\n",
    "\n",
    "            # Call your application logic\n",
    "            output = run_my_langchain_llm_app(\n",
    "                item.input[\"country\"], system_prompt, langfuse_handler\n",
    "            )\n",
    "\n",
    "            # Optionally, score the result against the expected output\n",
    "            root_span.score_trace(\n",
    "                name=\"exact_match\", value=simple_evaluation(output, item.expected_output)\n",
    "            )\n",
    "\n",
    "    print(f\"\\nFinished processing dataset 'capital_cities' for run '{experiment_name}'.\")"
   ]
  },
  {
   "cell_type": "code",
   "execution_count": null,
   "id": "02cbbd79",
   "metadata": {},
   "outputs": [
    {
     "name": "stdout",
     "output_type": "stream",
     "text": [
      "\n",
      "Finished processing dataset 'capital_cities' for run 'langchain_famous_city'.\n",
      "\n",
      "Finished processing dataset 'capital_cities' for run 'langchain_directly_ask'.\n",
      "\n",
      "Finished processing dataset 'capital_cities' for run 'langchain_asking_specifically'.\n",
      "\n",
      "Finished processing dataset 'capital_cities' for run 'langchain_asking_specifically_2nd_try'.\n"
     ]
    }
   ],
   "source": [
    "run_langchain_experiment(\n",
    "    \"langchain_famous_city\",\n",
    "    \"The user will input countries, respond with the most famous city in this country\",\n",
    ")\n",
    "run_langchain_experiment(\"langchain_directly_ask\", \"What is the capital of the following country?\")\n",
    "run_langchain_experiment(\n",
    "    \"langchain_asking_specifically\",\n",
    "    \"The user will input countries, respond with only the name of the capital\",\n",
    ")\n",
    "run_langchain_experiment(\n",
    "    \"langchain_asking_specifically_2nd_try\",\n",
    "    \"The user will input countries, respond with only the name of the capital. State only the name of the city.\",\n",
    ")"
   ]
  },
  {
   "cell_type": "code",
   "execution_count": null,
   "id": "df02f031",
   "metadata": {},
   "outputs": [],
   "source": []
  }
 ],
 "metadata": {
  "kernelspec": {
   "display_name": ".venv",
   "language": "python",
   "name": "python3"
  },
  "language_info": {
   "codemirror_mode": {
    "name": "ipython",
    "version": 3
   },
   "file_extension": ".py",
   "mimetype": "text/x-python",
   "name": "python",
   "nbconvert_exporter": "python",
   "pygments_lexer": "ipython3",
   "version": "3.13.3"
  }
 },
 "nbformat": 4,
 "nbformat_minor": 5
}
