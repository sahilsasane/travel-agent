{
 "cells": [
  {
   "cell_type": "code",
   "execution_count": 1,
   "id": "a274b858",
   "metadata": {},
   "outputs": [],
   "source": [
    "import os\n",
    "import sys\n",
    "\n",
    "src_dir = \"/run/media/sahilsasane/Disk_1/Sahil/TMDC/test_repo/travel-agent/src\"\n",
    "sys.path.insert(0, src_dir)"
   ]
  },
  {
   "cell_type": "code",
   "execution_count": 2,
   "id": "38b74ad4",
   "metadata": {},
   "outputs": [],
   "source": [
    "from datetime import datetime\n",
    "from typing import Literal\n",
    "\n",
    "from langchain_community.tools import DuckDuckGoSearchResults, OpenWeatherMapQueryRun\n",
    "from langchain_community.utilities import OpenWeatherMapAPIWrapper\n",
    "from langchain_core.language_models.chat_models import BaseChatModel\n",
    "from langchain_core.messages import AIMessage, SystemMessage\n",
    "from langchain_core.runnables import RunnableConfig, RunnableLambda, RunnableSerializable\n",
    "from langgraph.checkpoint.memory import MemorySaver\n",
    "from langgraph.graph import END, MessagesState, StateGraph\n",
    "from langgraph.managed import RemainingSteps\n",
    "from langgraph.prebuilt import ToolNode\n",
    "from langgraph.store.memory import InMemoryStore\n",
    "\n",
    "from agents.llama_guard import LlamaGuard, LlamaGuardOutput, SafetyAssessment\n",
    "from core import get_model, settings"
   ]
  },
  {
   "cell_type": "code",
   "execution_count": null,
   "id": "58ba3312",
   "metadata": {},
   "outputs": [],
   "source": [
    "class AgentState(MessagesState, total=False):\n",
    "    safety: LlamaGuardOutput\n",
    "    remaining_steps: RemainingSteps"
   ]
  },
  {
   "cell_type": "code",
   "execution_count": null,
   "id": "95085722",
   "metadata": {},
   "outputs": [],
   "source": [
    "web_search = DuckDuckGoSearchResults(name=\"WebSearch\")\n",
    "tools = [web_search]\n",
    "\n",
    "# Add weather tool if API key is set\n",
    "# Register for an API key at https://openweathermap.org/api/\n",
    "if settings.OPENWEATHERMAP_API_KEY:\n",
    "    wrapper = OpenWeatherMapAPIWrapper(\n",
    "        openweathermap_api_key=settings.OPENWEATHERMAP_API_KEY.get_secret_value()\n",
    "    )\n",
    "    tools.append(OpenWeatherMapQueryRun(name=\"Weather\", api_wrapper=wrapper))\n",
    "\n",
    "current_date = datetime.now().strftime(\"%B %d, %Y\")\n",
    "instructions = f\"\"\"\n",
    "    You are a helpful research assistant with the ability to search the web and use other tools.\n",
    "    Today's date is {current_date}.\n",
    "\n",
    "    NOTE: THE USER CAN'T SEE THE TOOL RESPONSE.\n",
    "\n",
    "    A few things to remember:\n",
    "    - Please include markdown-formatted links to any citations used in your response. Only include one\n",
    "    or two citations per response unless more are needed. ONLY USE LINKS RETURNED BY THE TOOLS.\n",
    "    - Use calculator tool with numexpr to answer math questions. The user does not understand numexpr,\n",
    "      so for the final response, use human readable format - e.g. \"300 * 200\", not \"(300 \\\\times 200)\".\n",
    "    \"\"\"\n",
    "\n",
    "\n",
    "def wrap_model(model: BaseChatModel) -> RunnableSerializable[AgentState, AIMessage]:\n",
    "    bound_model = model.bind_tools(tools)\n",
    "    preprocessor = RunnableLambda(\n",
    "        lambda state: [SystemMessage(content=instructions)] + state[\"messages\"],\n",
    "        name=\"StateModifier\",\n",
    "    )\n",
    "    return preprocessor | bound_model  # type: ignore[return-value]\n",
    "\n",
    "\n",
    "def format_safety_message(safety: LlamaGuardOutput) -> AIMessage:\n",
    "    content = (\n",
    "        f\"This conversation was flagged for unsafe content: {', '.join(safety.unsafe_categories)}\"\n",
    "    )\n",
    "    return AIMessage(content=content)\n",
    "\n",
    "\n",
    "async def acall_model(state: AgentState, config: RunnableConfig) -> AgentState:\n",
    "    m = get_model(config[\"configurable\"].get(\"model\", settings.DEFAULT_MODEL))\n",
    "    model_runnable = wrap_model(m)\n",
    "    response = await model_runnable.ainvoke(state, config)\n",
    "\n",
    "    # Run llama guard check here to avoid returning the message if it's unsafe\n",
    "    llama_guard = LlamaGuard()\n",
    "    safety_output = await llama_guard.ainvoke(\"Agent\", state[\"messages\"] + [response])\n",
    "    if safety_output.safety_assessment == SafetyAssessment.UNSAFE:\n",
    "        return {\"messages\": [format_safety_message(safety_output)], \"safety\": safety_output}\n",
    "\n",
    "    if state[\"remaining_steps\"] < 2 and response.tool_calls:\n",
    "        return {\n",
    "            \"messages\": [\n",
    "                AIMessage(\n",
    "                    id=response.id,\n",
    "                    content=\"Sorry, need more steps to process this request.\",\n",
    "                )\n",
    "            ]\n",
    "        }\n",
    "    # We return a list, because this will get added to the existing list\n",
    "    return {\"messages\": [response]}\n",
    "\n",
    "\n",
    "async def llama_guard_input(state: AgentState, config: RunnableConfig) -> AgentState:\n",
    "    llama_guard = LlamaGuard()\n",
    "    safety_output = await llama_guard.ainvoke(\"User\", state[\"messages\"])\n",
    "    return {\"safety\": safety_output, \"messages\": []}\n",
    "\n",
    "\n",
    "async def block_unsafe_content(state: AgentState, config: RunnableConfig) -> AgentState:\n",
    "    safety: LlamaGuardOutput = state[\"safety\"]\n",
    "    return {\"messages\": [format_safety_message(safety)]}"
   ]
  },
  {
   "cell_type": "code",
   "execution_count": 5,
   "id": "7efd0d9e",
   "metadata": {},
   "outputs": [],
   "source": [
    "# Define the graph\n",
    "agent = StateGraph(AgentState)\n",
    "agent.add_node(\"model\", acall_model)\n",
    "agent.add_node(\"tools\", ToolNode(tools))\n",
    "agent.add_node(\"guard_input\", llama_guard_input)\n",
    "agent.add_node(\"block_unsafe_content\", block_unsafe_content)\n",
    "agent.set_entry_point(\"guard_input\")\n",
    "\n",
    "\n",
    "# Check for unsafe input and block further processing if found\n",
    "def check_safety(state: AgentState) -> Literal[\"unsafe\", \"safe\"]:\n",
    "    safety: LlamaGuardOutput = state[\"safety\"]\n",
    "    match safety.safety_assessment:\n",
    "        case SafetyAssessment.UNSAFE:\n",
    "            return \"unsafe\"\n",
    "        case _:\n",
    "            return \"safe\"\n",
    "\n",
    "\n",
    "agent.add_conditional_edges(\n",
    "    \"guard_input\", check_safety, {\"unsafe\": \"block_unsafe_content\", \"safe\": \"model\"}\n",
    ")\n",
    "\n",
    "# Always END after blocking unsafe content\n",
    "agent.add_edge(\"block_unsafe_content\", END)\n",
    "\n",
    "# Always run \"model\" after \"tools\"\n",
    "agent.add_edge(\"tools\", \"model\")\n",
    "\n",
    "\n",
    "# After \"model\", if there are tool calls, run \"tools\". Otherwise END.\n",
    "def pending_tool_calls(state: AgentState) -> Literal[\"tools\", \"done\"]:\n",
    "    last_message = state[\"messages\"][-1]\n",
    "    if not isinstance(last_message, AIMessage):\n",
    "        raise TypeError(f\"Expected AIMessage, got {type(last_message)}\")\n",
    "    if last_message.tool_calls:\n",
    "        return \"tools\"\n",
    "    return \"done\"\n",
    "\n",
    "\n",
    "agent.add_conditional_edges(\"model\", pending_tool_calls, {\"tools\": \"tools\", \"done\": END})\n",
    "\n",
    "\n",
    "research_assistant = agent.compile(checkpointer=MemorySaver(), store=InMemoryStore())"
   ]
  },
  {
   "cell_type": "code",
   "execution_count": 9,
   "id": "a6ee3578",
   "metadata": {},
   "outputs": [
    {
     "data": {
      "image/png": "[encoded data removed]",
      "text/plain": [
       "<IPython.core.display.Image object>"
      ]
     },
     "execution_count": 9,
     "metadata": {},
     "output_type": "execute_result"
    }
   ],
   "source": [
    "from IPython.display import Image, display\n",
    "\n",
    "Image(research_assistant.get_graph().draw_mermaid_png())"
   ]
  },
  {
   "cell_type": "code",
   "execution_count": null,
   "id": "107570e7",
   "metadata": {},
   "outputs": [
    {
     "data": {
      "text/plain": [
       "{'messages': [HumanMessage(content='nigga', additional_kwargs={}, response_metadata={}, id='3cbfa081-f337-44e3-9dc2-1a2b08fe6a95'),\n",
       "  HumanMessage(content='nigga', additional_kwargs={}, response_metadata={}, id='136afd76-b446-479c-b311-288b3e473a66'),\n",
       "  AIMessage(content='I cannot respond to queries that contain offensive or inappropriate language. Please use respectful language in your requests.', additional_kwargs={}, response_metadata={'prompt_feedback': {'block_reason': 0, 'safety_ratings': []}, 'finish_reason': 'STOP', 'safety_ratings': []}, id='run--e4ced491-2a8e-4baa-acbb-26ef86f063ef-0', usage_metadata={'input_tokens': 232, 'output_tokens': 20, 'total_tokens': 306, 'input_token_details': {'cache_read': 0}})],\n",
       " 'safety': LlamaGuardOutput(safety_assessment=<SafetyAssessment.SAFE: 'safe'>, unsafe_categories=[])}"
      ]
     },
     "execution_count": 13,
     "metadata": {},
     "output_type": "execute_result"
    }
   ],
   "source": [
    "config = {\"configurable\": {\"thread_id\": \"123\"}}\n",
    "await research_assistant.ainvoke(\n",
    "    {\n",
    "        \"messages\": (\n",
    "            \"user\",\n",
    "            \"nigga\",\n",
    "        )\n",
    "    },\n",
    "    config,\n",
    ")"
   ]
  }
 ],
 "metadata": {
  "kernelspec": {
   "display_name": "travel-agent",
   "language": "python",
   "name": "python3"
  },
  "language_info": {
   "codemirror_mode": {
    "name": "ipython",
    "version": 3
   },
   "file_extension": ".py",
   "mimetype": "text/x-python",
   "name": "python",
   "nbconvert_exporter": "python",
   "pygments_lexer": "ipython3",
   "version": "3.13.3"
  }
 },
 "nbformat": 4,
 "nbformat_minor": 5
}
